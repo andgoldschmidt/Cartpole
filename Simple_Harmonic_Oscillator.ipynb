{
 "cells": [
  {
   "cell_type": "markdown",
   "metadata": {},
   "source": [
    "# Load"
   ]
  },
  {
   "cell_type": "code",
   "execution_count": 1,
   "metadata": {
    "ExecuteTime": {
     "end_time": "2019-08-21T20:35:38.443347Z",
     "start_time": "2019-08-21T20:35:37.835990Z"
    }
   },
   "outputs": [],
   "source": [
    "%matplotlib inline"
   ]
  },
  {
   "cell_type": "code",
   "execution_count": 38,
   "metadata": {
    "ExecuteTime": {
     "end_time": "2019-08-21T21:02:16.468799Z",
     "start_time": "2019-08-21T21:02:16.466192Z"
    }
   },
   "outputs": [],
   "source": [
    "import numpy as np\n",
    "import scipy as sp\n",
    "from scipy import integrate\n",
    "\n",
    "import matplotlib.pyplot as plt"
   ]
  },
  {
   "cell_type": "code",
   "execution_count": 45,
   "metadata": {
    "ExecuteTime": {
     "end_time": "2019-08-21T21:03:49.332032Z",
     "start_time": "2019-08-21T21:03:49.329726Z"
    }
   },
   "outputs": [],
   "source": [
    "import importlib\n",
    "ch = importlib.import_module('control_helper')"
   ]
  },
  {
   "cell_type": "code",
   "execution_count": 68,
   "metadata": {
    "ExecuteTime": {
     "end_time": "2019-08-22T17:35:24.392201Z",
     "start_time": "2019-08-22T17:35:24.380246Z"
    }
   },
   "outputs": [],
   "source": [
    "ch = importlib.reload(ch)"
   ]
  },
  {
   "cell_type": "markdown",
   "metadata": {},
   "source": [
    "# Dynamics"
   ]
  },
  {
   "cell_type": "markdown",
   "metadata": {},
   "source": [
    "Solve the Hamilton equations of motion for the state variable X of the cartpole system to find the 1st order equation of motion $\\dot{X} = f(X,t)$:\n",
    "\n",
    "\\begin{align*}\n",
    "    \\dot{x}        &= \\frac{- ml \\cos(\\theta) p_\\theta + ml^2 p_x }{D(\\theta)} \\\\\n",
    "    \\dot{p_x}      &= 0 \\\\\n",
    "    \\dot{\\theta}   &= \\frac{ (M+m) p_\\theta - ml \\cos(\\theta) p_x }{D(\\theta)} \\\\\n",
    "    \\dot{p_\\theta} &= - \\frac{1}{2} \\big((M+m) p_\\theta^2 + ml^2 p_x^2 - 2 m l \\cos(\\theta) p_x p_\\theta \\big)\n",
    "                      G(\\theta) + m g l \\sin(\\theta)\n",
    "\\end{align*}\n",
    "\n",
    "with \n",
    "$D(\\theta) = ml^2 (M + m \\sin^2(\\theta) )$,\n",
    "$G(\\theta) =  \\frac{\\partial}{ \\partial \\theta} \\frac{1}{D(\\theta)} = - \\frac{2 m^2 l^2 \\sin(\\theta) \\cos(\\theta)}{ D(\\theta)^2 }$\n",
    "\n",
    "Use ode45 to time-evolve the dynamical system, and make a movie of the result."
   ]
  },
  {
   "cell_type": "markdown",
   "metadata": {},
   "source": [
    "Comments:\n",
    "- should I write everything in terms of mass ratios?\n",
    "- need to go back and add friction\n",
    "- choice of units?"
   ]
  },
  {
   "cell_type": "code",
   "execution_count": 121,
   "metadata": {
    "ExecuteTime": {
     "end_time": "2019-08-22T17:38:45.055899Z",
     "start_time": "2019-08-22T17:38:45.050540Z"
    }
   },
   "outputs": [],
   "source": [
    "# c = ch.cartpole({'mass_cart': 5, 'mass_pole': 2, 'length_pole': .75})\n",
    "c = ch.cartpole({'mass_cart': 5, 'mass_pole': 2.1, 'length_pole': .75})"
   ]
  },
  {
   "cell_type": "code",
   "execution_count": 122,
   "metadata": {
    "ExecuteTime": {
     "end_time": "2019-08-22T17:38:45.313504Z",
     "start_time": "2019-08-22T17:38:45.293620Z"
    }
   },
   "outputs": [],
   "source": [
    "y0 = [0, 1, 0, 0]\n",
    "tmin, tmax = [0,8.5]\n",
    "time = np.linspace(tmin,tmax,int((tmax-tmin)/.01))\n",
    "res = integrate.solve_ivp(c.rhs, [tmin, tmax], y0, t_eval=time)"
   ]
  },
  {
   "cell_type": "code",
   "execution_count": 123,
   "metadata": {
    "ExecuteTime": {
     "end_time": "2019-08-22T17:38:48.525600Z",
     "start_time": "2019-08-22T17:38:46.277204Z"
    }
   },
   "outputs": [
    {
     "data": {
      "image/jpeg": "[encoded data removed]",
      "text/plain": [
       "<IPython.core.display.Image object>"
      ]
     },
     "metadata": {},
     "output_type": "display_data"
    }
   ],
   "source": [
    "xmin,xmax = [min(res.y[0,:])-2*c.l, max(res.y[0,:])+2*c.l]\n",
    "ymin,ymax = [-2*c.l, 2*c.l]\n",
    "for i,t in enumerate(time):\n",
    "    if i%10==0:\n",
    "        fig, ax = plt.subplots(1)\n",
    "        ax.set_xlim([xmin,xmax])\n",
    "        ax.set_ylim([ymin,ymax])\n",
    "        ax.set_aspect('equal')\n",
    "\n",
    "        # Plot data\n",
    "        cm_pole = [res.y[0,i]+c.l*np.sin(res.y[2,i]), c.l*np.cos(res.y[2,i])]\n",
    "        ax.plot(res.y[0,:i]+c.l*np.sin(res.y[2,:i]), c.l*np.cos(res.y[2,:i]), ls='--', lw=1)\n",
    "        cm_cart = [res.y[0,i], 0]\n",
    "        ax.set_title(str(round(t, 2)), fontsize=20)\n",
    "        ax.plot([cm_cart[0], 2*(cm_pole[0]-cm_cart[0])+cm_cart[0]], [cm_cart[1], 2*cm_pole[1]], c='k')\n",
    "        ax.scatter(*cm_pole, marker='o', c='k')\n",
    "        ax.scatter(*cm_cart, marker='s', s=500, c='k')\n",
    "        ax.axis('off')\n",
    "        \n",
    "        plt.close() # prevent print\n",
    "        ch.DisplayFigure(fig)"
   ]
  },
  {
   "cell_type": "markdown",
   "metadata": {},
   "source": [
    "# Controllability"
   ]
  },
  {
   "cell_type": "markdown",
   "metadata": {},
   "source": [
    "Compute the Jacobian:\n",
    "\n",
    "$J = $\n",
    "\\begin{pmatrix} \n",
    "0 & \\frac{ml^2}{D(\\theta)} \n",
    "  & (-ml\\cos(\\theta) p_\\theta + ml^2 p_x) G(\\theta) + \\frac{ml\\sin(\\theta)p_\\theta}{D(\\theta)} \n",
    "  & \\frac{-ml\\cos(\\theta)}{D(\\theta)}\\\\\n",
    "0 & 0 & 0 & 0 \\\\\n",
    "0 & \\frac{-ml\\cos(\\theta)}{D(\\theta)}\n",
    "  & \\big( (M+m) p_\\theta - ml \\cos(\\theta) p_x \\big) G(\\theta) +  \\frac{ ml \\sin(\\theta) p_x }{D(\\theta)}\n",
    "  & \\frac{M+m}{D(\\theta)} \\\\\n",
    "0 & - \\frac{1}{2} \\big(2 ml^2 p_x - 2 m l \\cos(\\theta) p_\\theta \\big) G(\\theta)\n",
    "  & - \\frac{1}{2} \\big((M+m) p_\\theta^2 + ml^2 p_x^2 - 2 m l \\cos(\\theta) p_x p_\\theta \\big)\n",
    "      \\frac{\\partial  G(\\theta)}{\\partial \\theta}\n",
    "      - \\frac{1}{2} \\big(2 m l \\sin(\\theta) p_x p_\\theta \\big) G(\\theta)\n",
    "      + m g l \\cos(\\theta) \n",
    "  & - \\frac{1}{2} \\big(2 (M+m) p_\\theta - 2 m l \\cos(\\theta) p_x \\big) G(\\theta) \\\\\n",
    "\\end{pmatrix}\n",
    "\n",
    "Then we evaluate at the points we are expanding about--that's $\\theta = 0, \\pi$ and all the other values can be anything. \n",
    "\n",
    "Note:\n",
    "\n",
    "$D(\\theta=0, \\pi) = M m l^2 $,\n",
    "\n",
    "$G(\\theta=0, \\pi) =  0$,\n",
    "\n",
    "$ \\frac{\\partial  G(\\theta)}{\\partial \\theta}|_{0, \\pi} \\\n",
    "  = \\frac{D_{\\theta \\theta}}{D^3(\\theta)} G(\\theta)|_{0, \\pi} = 0$\n",
    "\n",
    "Hence:\n",
    "\n",
    "$J|_{0, \\pi} = $\n",
    "\\begin{pmatrix} \n",
    "0 & \\frac{1}{ M } \n",
    "  & 0 \n",
    "  & \\frac{-s}{M l }\\\\\n",
    "0 & 0 \n",
    "  & 0 \n",
    "  & 0 \\\\\n",
    "0 & \\frac{-s}{M l }\n",
    "  & 0\n",
    "  & \\frac{M+m}{M m l^2 } \\\\\n",
    "0 & 0\n",
    "  & m g l s\n",
    "  & 0 \\\\\n",
    "\\end{pmatrix}\n",
    "\n",
    "where s holds the sign of $\\cos(0), \\cos(\\pi)$.\n",
    "\n",
    "Comments:\n",
    "- it's odd that there's no dendence on any of the other variables at these angles\n",
    "- can I check some cases to see if this makes sense?"
   ]
  },
  {
   "cell_type": "code",
   "execution_count": null,
   "metadata": {},
   "outputs": [],
   "source": [
    "# Check for controllability by looking at the rank of the controllability matri\n",
    "# Look at the SVD and interpretx"
   ]
  },
  {
   "cell_type": "code",
   "execution_count": 2,
   "metadata": {
    "ExecuteTime": {
     "end_time": "2019-08-19T18:18:44.050889Z",
     "start_time": "2019-08-19T18:18:44.047919Z"
    }
   },
   "outputs": [],
   "source": [
    "# Check the behavior of placing eigenvalues deeper into the negative half-plane"
   ]
  },
  {
   "cell_type": "code",
   "execution_count": null,
   "metadata": {},
   "outputs": [],
   "source": [
    "# Run the lqr for choice of Q and R to find the optimal regulator\n",
    "# Look at the eigenvalues to learn what optimal control is doing\n",
    "# Should see that xdot and thetadot are VERY controllable."
   ]
  },
  {
   "cell_type": "markdown",
   "metadata": {},
   "source": [
    "# Observability"
   ]
  },
  {
   "cell_type": "code",
   "execution_count": null,
   "metadata": {},
   "outputs": [],
   "source": [
    "# Choose a sensor (let's say the position, x)\n",
    "# Construct the observability matrix and check for observability\n",
    "# Look at the SVD and interpret"
   ]
  },
  {
   "cell_type": "code",
   "execution_count": null,
   "metadata": {},
   "outputs": [],
   "source": [
    "# Is there an observable subsystem? Omit x."
   ]
  }
 ],
 "metadata": {
  "kernelspec": {
   "display_name": "Python 3",
   "language": "python",
   "name": "python3"
  },
  "language_info": {
   "codemirror_mode": {
    "name": "ipython",
    "version": 3
   },
   "file_extension": ".py",
   "mimetype": "text/x-python",
   "name": "python",
   "nbconvert_exporter": "python",
   "pygments_lexer": "ipython3",
   "version": "3.6.8"
  },
  "latex_envs": {
   "LaTeX_envs_menu_present": true,
   "autoclose": false,
   "autocomplete": true,
   "bibliofile": "biblio.bib",
   "cite_by": "apalike",
   "current_citInitial": 1,
   "eqLabelWithNumbers": true,
   "eqNumInitial": 1,
   "hotkeys": {
    "equation": "Ctrl-E",
    "itemize": "Ctrl-I"
   },
   "labels_anchors": false,
   "latex_user_defs": false,
   "report_style_numbering": false,
   "user_envs_cfg": false
  },
  "toc": {
   "base_numbering": 1,
   "nav_menu": {},
   "number_sections": true,
   "sideBar": true,
   "skip_h1_title": false,
   "title_cell": "Table of Contents",
   "title_sidebar": "Contents",
   "toc_cell": false,
   "toc_position": {},
   "toc_section_display": true,
   "toc_window_display": true
  },
  "varInspector": {
   "cols": {
    "lenName": 16,
    "lenType": 16,
    "lenVar": 40
   },
   "kernels_config": {
    "python": {
     "delete_cmd_postfix": "",
     "delete_cmd_prefix": "del ",
     "library": "var_list.py",
     "varRefreshCmd": "print(var_dic_list())"
    },
    "r": {
     "delete_cmd_postfix": ") ",
     "delete_cmd_prefix": "rm(",
     "library": "var_list.r",
     "varRefreshCmd": "cat(var_dic_list()) "
    }
   },
   "types_to_exclude": [
    "module",
    "function",
    "builtin_function_or_method",
    "instance",
    "_Feature"
   ],
   "window_display": false
  }
 },
 "nbformat": 4,
 "nbformat_minor": 2
}
