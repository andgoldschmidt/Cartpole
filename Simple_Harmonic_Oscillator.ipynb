{
 "cells": [
  {
   "cell_type": "markdown",
   "metadata": {},
   "source": [
    "# Load"
   ]
  },
  {
   "cell_type": "code",
   "execution_count": 9,
   "metadata": {
    "ExecuteTime": {
     "end_time": "2019-08-23T22:56:37.772974Z",
     "start_time": "2019-08-23T22:56:37.770281Z"
    }
   },
   "outputs": [],
   "source": [
    "%matplotlib inline"
   ]
  },
  {
   "cell_type": "code",
   "execution_count": 10,
   "metadata": {
    "ExecuteTime": {
     "end_time": "2019-08-23T22:56:38.405383Z",
     "start_time": "2019-08-23T22:56:37.774553Z"
    }
   },
   "outputs": [],
   "source": [
    "import numpy as np\n",
    "import scipy as sp\n",
    "from scipy import integrate\n",
    "\n",
    "import matplotlib.pyplot as plt"
   ]
  },
  {
   "cell_type": "code",
   "execution_count": 11,
   "metadata": {
    "ExecuteTime": {
     "end_time": "2019-08-23T22:56:38.520599Z",
     "start_time": "2019-08-23T22:56:38.406755Z"
    }
   },
   "outputs": [],
   "source": [
    "import importlib\n",
    "ch = importlib.import_module('control_helper')"
   ]
  },
  {
   "cell_type": "code",
   "execution_count": 44,
   "metadata": {
    "ExecuteTime": {
     "end_time": "2019-08-23T23:02:42.392523Z",
     "start_time": "2019-08-23T23:02:42.388944Z"
    }
   },
   "outputs": [],
   "source": [
    "ch = importlib.reload(ch)"
   ]
  },
  {
   "cell_type": "markdown",
   "metadata": {},
   "source": [
    "# Dynamics"
   ]
  },
  {
   "cell_type": "markdown",
   "metadata": {},
   "source": [
    "(in the repo, there is an accompanying mathematica notebook to help check these results)\n",
    "\n",
    "Solve the Hamilton equations of motion for the state variable X of the cartpole system to find the 1st order equation of motion $\\dot{X} = f(X,t)$:\n",
    "\n",
    "\\begin{align}\n",
    "    \\dot{x}        &= \\frac{- ml \\cos(\\theta) p_\\theta + ml^2 p_x }{d(\\theta)} \\\\\n",
    "    \\dot{p_x}      &= 0 \\\\\n",
    "    \\dot{\\theta}   &= \\frac{ (M+m) p_\\theta - ml \\cos(\\theta) p_x }{d(\\theta)} \\\\\n",
    "    \\dot{p_\\theta} &= - \\frac{l^2 m p_x^2 d'(\\theta )}{2 d(\\theta )^2}-\\frac{l m p_\\theta p_x \\cos (\\theta ) d'(\\theta )}{d(\\theta )^2}+\\frac{p_\\theta^2 (m+M) d'(\\theta )}{2 d(\\theta )^2}-\\frac{l m p_\\theta p_x \\sin (\\theta )}{d(\\theta )}+g l m \\sin (\\theta )\n",
    "\\end{align}\n",
    "\n",
    "with \n",
    "$d(\\theta) = ml^2 (M + m \\sin^2(\\theta) )$\n",
    "\n",
    "Use ode45 to time-evolve the dynamical system, and make a movie of the result."
   ]
  },
  {
   "cell_type": "markdown",
   "metadata": {},
   "source": [
    "Comments:\n",
    "- should I write everything in terms of mass ratios?\n",
    "- need to go back and add friction\n",
    "- choice of units?"
   ]
  },
  {
   "cell_type": "code",
   "execution_count": 17,
   "metadata": {
    "ExecuteTime": {
     "end_time": "2019-08-23T22:58:56.222144Z",
     "start_time": "2019-08-23T22:58:56.213504Z"
    },
    "code_folding": [
     0
    ]
   },
   "outputs": [],
   "source": [
    "def make_movie(ctpl, x, th, time):\n",
    "    xmin,xmax = [min(x)-2*ctpl.l, max(x)+2*ctpl.l]\n",
    "    ymin,ymax = [-2*ctpl.l, 2*ctpl.l]\n",
    "    for i,t in enumerate(time):\n",
    "        if i%10==0:\n",
    "            fig, ax = plt.subplots(1)\n",
    "            ax.set_xlim([xmin,xmax])\n",
    "            ax.set_ylim([ymin,ymax])\n",
    "            ax.set_aspect('equal')\n",
    "\n",
    "            # Pick data\n",
    "            cm_pole = [x[i]+ctpl.l*np.sin(th[i]), ctpl.l*np.cos(th[i])]\n",
    "            ax.plot(x[:i]+ctpl.l*np.sin(th[:i]), ctpl.l*np.cos(th[:i]), ls='--', lw=1)\n",
    "            cm_cart = [x[i], 0]\n",
    "            \n",
    "            # Plot data\n",
    "            ax.set_title(str(round(t, 2)), fontsize=20)\n",
    "            ax.plot([cm_cart[0], 2*(cm_pole[0]-cm_cart[0])+cm_cart[0]], [cm_cart[1], 2*cm_pole[1]], c='k')\n",
    "            ax.scatter(*cm_pole, marker='o', c='k')\n",
    "            ax.scatter(*cm_cart, marker='s', s=500, c='k')\n",
    "            ax.axis('off')\n",
    "\n",
    "            plt.close() # prevent print\n",
    "            ch.DisplayFigure(fig)"
   ]
  },
  {
   "cell_type": "code",
   "execution_count": 45,
   "metadata": {
    "ExecuteTime": {
     "end_time": "2019-08-23T23:02:43.463302Z",
     "start_time": "2019-08-23T23:02:43.458307Z"
    }
   },
   "outputs": [],
   "source": [
    "# c = ch.cartpole({'mass_cart': 5, 'mass_pole': 2, 'length_pole': .75})\n",
    "c = ch.cartpole({'mass_cart': 5, 'mass_pole': 2.1, 'length_pole': .75})"
   ]
  },
  {
   "cell_type": "code",
   "execution_count": 95,
   "metadata": {
    "ExecuteTime": {
     "end_time": "2019-08-24T00:11:14.325587Z",
     "start_time": "2019-08-24T00:11:12.269646Z"
    }
   },
   "outputs": [
    {
     "data": {
      "image/jpeg": "[encoded data removed]",
      "text/plain": [
       "<IPython.core.display.Image object>"
      ]
     },
     "metadata": {},
     "output_type": "display_data"
    }
   ],
   "source": [
    "y0 = [0, 1, 0, 0]\n",
    "tmin, tmax = [0,8]\n",
    "time = np.linspace(tmin,tmax,int((tmax-tmin)/.01))\n",
    "res = integrate.solve_ivp(c.rhs, [tmin, tmax], y0, t_eval=time)\n",
    "\n",
    "x,px,th,pth = res.y\n",
    "make_movie(c, x,th, time)"
   ]
  },
  {
   "cell_type": "markdown",
   "metadata": {},
   "source": [
    "# Controllability"
   ]
  },
  {
   "cell_type": "markdown",
   "metadata": {},
   "source": [
    "Find the fixed points of the dynamics. Then, compute the Jacobian and evaluate the result at the fixed points of \n",
    "$p_x \\rightarrow 0, p_\\theta \\rightarrow 0, \\theta \\rightarrow 0, \\pi$:\n",
    "\n",
    "\\[\n",
    "    J = \\left(\n",
    "    \\begin{array}{cccc}\n",
    "     0 & \\frac{1}{M} & 0 & - s \\frac{1}{l M} \\\\\n",
    "     0 & 0 & 0 & 0 \\\\\n",
    "     0 & - s \\frac{1}{l M} & 0 & \\frac{m+M}{l^2 m M} \\\\\n",
    "     0 & 0 & s m g l  & 0 \\\\\n",
    "    \\end{array}\n",
    "    \\right)\n",
    "\\]\n",
    "\n",
    "The variable $s$ holds the sign associated with $\\pi \\Rightarrow s = -1$ and $0 \\Rightarrow s = 1$."
   ]
  },
  {
   "cell_type": "code",
   "execution_count": 106,
   "metadata": {
    "ExecuteTime": {
     "end_time": "2019-08-26T21:45:13.834536Z",
     "start_time": "2019-08-26T21:45:12.408217Z"
    }
   },
   "outputs": [
    {
     "data": {
      "image/jpeg": "[encoded data removed]",
      "text/plain": [
       "<IPython.core.display.Image object>"
      ]
     },
     "metadata": {},
     "output_type": "display_data"
    }
   ],
   "source": [
    "# Stable fixed point\n",
    "tmin, tmax = [0,5]\n",
    "time = np.linspace(tmin,tmax,int((tmax-tmin)/.01))\n",
    "                   \n",
    "yf = np.array([0, 0,np.pi,0])\n",
    "y0 = np.array([0, 0,np.pi+0.5,0])\n",
    "\n",
    "linear_res = np.array([sp.linalg.expm(c.A(-1) * t)@(y0-yf)+yf for t in time])\n",
    "x,px,th,pth = linear_res.T\n",
    "                   \n",
    "make_movie(c,x,th,time)                  "
   ]
  },
  {
   "cell_type": "code",
   "execution_count": 104,
   "metadata": {
    "ExecuteTime": {
     "end_time": "2019-08-26T18:26:40.855650Z",
     "start_time": "2019-08-26T18:26:39.301651Z"
    }
   },
   "outputs": [
    {
     "data": {
      "image/jpeg": "[encoded data removed]",
      "text/plain": [
       "<IPython.core.display.Image object>"
      ]
     },
     "metadata": {},
     "output_type": "display_data"
    }
   ],
   "source": [
    "# Unstable fixed point! We want to control this.\n",
    "tmin, tmax = [0, 5.5]\n",
    "time = np.linspace(tmin,tmax,int((tmax-tmin)/.01))\n",
    "                   \n",
    "yf = np.array([0, 0,0,0])\n",
    "y0 = np.array([0, 0,0.001,0])\n",
    "\n",
    "linear_res = np.array([sp.linalg.expm(c.A(1) * t)@(y0-yf)+yf for t in time])\n",
    "x,px,th,pth = linear_res.T\n",
    "                   \n",
    "make_movie(c,x,th,time) "
   ]
  },
  {
   "cell_type": "code",
   "execution_count": 103,
   "metadata": {
    "ExecuteTime": {
     "end_time": "2019-08-26T18:26:34.688249Z",
     "start_time": "2019-08-26T18:26:32.635300Z"
    }
   },
   "outputs": [
    {
     "data": {
      "image/jpeg": "[encoded data removed]",
      "text/plain": [
       "<IPython.core.display.Image object>"
      ]
     },
     "metadata": {},
     "output_type": "display_data"
    }
   ],
   "source": [
    "# Notice the correct dynamics for our unstable fixed point do not spiral away.\n",
    "tmin, tmax = [0, 8]\n",
    "time = np.linspace(tmin,tmax,int((tmax-tmin)/.01))\n",
    "                   \n",
    "y0 = np.array([0, 0,0.001,0])\n",
    "\n",
    "res = integrate.solve_ivp(c.rhs, [tmin, tmax], y0, t_eval=time)\n",
    "\n",
    "x,px,th,pth = res.y\n",
    "make_movie(c, x,th, time)"
   ]
  },
  {
   "cell_type": "code",
   "execution_count": null,
   "metadata": {},
   "outputs": [],
   "source": [
    "# Check for controllability by looking at the rank of the controllability matrix\n",
    "# Look at the SVD and interpret\n",
    "C_gram = [c.A]"
   ]
  },
  {
   "cell_type": "code",
   "execution_count": 2,
   "metadata": {
    "ExecuteTime": {
     "end_time": "2019-08-19T18:18:44.050889Z",
     "start_time": "2019-08-19T18:18:44.047919Z"
    }
   },
   "outputs": [],
   "source": [
    "# Check the behavior of placing eigenvalues deeper into the negative half-plane"
   ]
  },
  {
   "cell_type": "code",
   "execution_count": null,
   "metadata": {},
   "outputs": [],
   "source": [
    "# Run the lqr for choice of Q and R to find the optimal regulator\n",
    "# Look at the eigenvalues to learn what optimal control is doing\n",
    "# Should see that xdot and thetadot are VERY controllable."
   ]
  },
  {
   "cell_type": "markdown",
   "metadata": {},
   "source": [
    "# Observability"
   ]
  },
  {
   "cell_type": "code",
   "execution_count": null,
   "metadata": {},
   "outputs": [],
   "source": [
    "# Choose a sensor (let's say the position, x)\n",
    "# Construct the observability matrix and check for observability\n",
    "# Look at the SVD and interpret"
   ]
  },
  {
   "cell_type": "code",
   "execution_count": null,
   "metadata": {},
   "outputs": [],
   "source": [
    "# Is there an observable subsystem? Omit x."
   ]
  }
 ],
 "metadata": {
  "kernelspec": {
   "display_name": "Python 3",
   "language": "python",
   "name": "python3"
  },
  "language_info": {
   "codemirror_mode": {
    "name": "ipython",
    "version": 3
   },
   "file_extension": ".py",
   "mimetype": "text/x-python",
   "name": "python",
   "nbconvert_exporter": "python",
   "pygments_lexer": "ipython3",
   "version": "3.6.8"
  },
  "latex_envs": {
   "LaTeX_envs_menu_present": true,
   "autoclose": false,
   "autocomplete": true,
   "bibliofile": "biblio.bib",
   "cite_by": "apalike",
   "current_citInitial": 1,
   "eqLabelWithNumbers": true,
   "eqNumInitial": 1,
   "hotkeys": {
    "equation": "Ctrl-E",
    "itemize": "Ctrl-I"
   },
   "labels_anchors": false,
   "latex_user_defs": false,
   "report_style_numbering": false,
   "user_envs_cfg": false
  },
  "toc": {
   "base_numbering": 1,
   "nav_menu": {},
   "number_sections": true,
   "sideBar": true,
   "skip_h1_title": false,
   "title_cell": "Table of Contents",
   "title_sidebar": "Contents",
   "toc_cell": false,
   "toc_position": {},
   "toc_section_display": true,
   "toc_window_display": true
  },
  "varInspector": {
   "cols": {
    "lenName": 16,
    "lenType": 16,
    "lenVar": 40
   },
   "kernels_config": {
    "python": {
     "delete_cmd_postfix": "",
     "delete_cmd_prefix": "del ",
     "library": "var_list.py",
     "varRefreshCmd": "print(var_dic_list())"
    },
    "r": {
     "delete_cmd_postfix": ") ",
     "delete_cmd_prefix": "rm(",
     "library": "var_list.r",
     "varRefreshCmd": "cat(var_dic_list()) "
    }
   },
   "types_to_exclude": [
    "module",
    "function",
    "builtin_function_or_method",
    "instance",
    "_Feature"
   ],
   "window_display": false
  }
 },
 "nbformat": 4,
 "nbformat_minor": 2
}
