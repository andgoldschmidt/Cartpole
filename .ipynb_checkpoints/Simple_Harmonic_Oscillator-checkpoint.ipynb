{
 "cells": [
  {
   "cell_type": "code",
   "execution_count": 2,
   "metadata": {
    "ExecuteTime": {
     "end_time": "2019-08-21T03:31:15.594773Z",
     "start_time": "2019-08-21T03:31:15.476419Z"
    }
   },
   "outputs": [],
   "source": [
    "%matplotlib inline"
   ]
  },
  {
   "cell_type": "code",
   "execution_count": 3,
   "metadata": {
    "ExecuteTime": {
     "end_time": "2019-08-21T03:31:16.356129Z",
     "start_time": "2019-08-21T03:31:16.089158Z"
    }
   },
   "outputs": [],
   "source": [
    "import numpy as np\n",
    "import scipy as sp\n",
    "from scipy import integrate\n",
    "from skimage import color\n",
    "\n",
    "import matplotlib.pyplot as plt\n",
    "from skimage.draw import circle, rectangle\n",
    "\n",
    "from matplotlib.backends.backend_agg import FigureCanvasAgg as FigureCanvas\n",
    "from matplotlib.figure import Figure"
   ]
  },
  {
   "cell_type": "code",
   "execution_count": 4,
   "metadata": {
    "ExecuteTime": {
     "end_time": "2019-08-21T03:31:16.743496Z",
     "start_time": "2019-08-21T03:31:16.737044Z"
    }
   },
   "outputs": [],
   "source": [
    "#Imports for visualization\n",
    "import PIL.Image\n",
    "from io import BytesIO\n",
    "from IPython.display import clear_output, Image, display\n",
    "\n",
    "def DisplayArray(a, fmt='jpeg', rng=[0,1]):\n",
    "  \"\"\"Display an array as a picture.\"\"\"\n",
    "  a = (a - rng[0])/float(rng[1] - rng[0])*255\n",
    "  a = np.uint8(np.clip(a, 0, 255))\n",
    "  f = BytesIO()\n",
    "  PIL.Image.fromarray(a).save(f, fmt)\n",
    "  clear_output(wait = True)\n",
    "  display(Image(data=f.getvalue()))"
   ]
  },
  {
   "cell_type": "code",
   "execution_count": 5,
   "metadata": {
    "ExecuteTime": {
     "end_time": "2019-08-21T03:31:17.511639Z",
     "start_time": "2019-08-21T03:31:17.509703Z"
    }
   },
   "outputs": [],
   "source": [
    "# Do Euler-Lagrange to get the Cartpole equations of motion\n",
    "# Create parameter dictionary and state variable.\n",
    "# Do ode45 integration over some time span"
   ]
  },
  {
   "cell_type": "markdown",
   "metadata": {},
   "source": [
    "Comments:\n",
    "- should I write everything in terms of mass ratios?\n",
    "- need to go back and add friction\n",
    "- choice of units?"
   ]
  },
  {
   "cell_type": "code",
   "execution_count": 6,
   "metadata": {
    "ExecuteTime": {
     "end_time": "2019-08-21T03:31:20.997620Z",
     "start_time": "2019-08-21T03:31:20.991746Z"
    }
   },
   "outputs": [],
   "source": [
    "class cartpole:\n",
    "    def __init__(self, params):\n",
    "        try:\n",
    "            self.M = params['mass_cart']\n",
    "            self.m = params['mass_pole']    \n",
    "            self.l = params['length_pole']/2 # center of mass is halfway along the pole\n",
    "        except:\n",
    "            print('Error initializing cartpole instance: Missing required parameter.')\n",
    "        \n",
    "        self.g = 1 # choose units\n",
    "            \n",
    "    def rhs(self, t, state):\n",
    "        # no explicit time\n",
    "        x,px,theta,ptheta = state\n",
    "        cosX = np.cos(theta)\n",
    "        sinX = np.sin(theta)\n",
    "        D = (self.m*self.l**2)*(self.M + self.m*sinX**2)\n",
    "        Dinv = (1/D)\n",
    "        dx_dt = Dinv*(-self.m*self.l*cosX*ptheta + self.m*self.l**2*px)\n",
    "        dpx_dt = 0\n",
    "        dtheta_dt = Dinv*(-self.m*self.l*cosX*px + (self.M+self.m)*ptheta)\n",
    "        dptheta_dt = Dinv**2*(2*self.m*self.l*cosX*sinX)*(1/2) \\\n",
    "                     *((self.M+self.m)*ptheta**2 + self.m*self.l**2*px**2 - self.m*self.l*cosX*px*ptheta) \\\n",
    "                     + self.m*self.g*self.l*sinX\n",
    "        return [dx_dt, dpx_dt, dtheta_dt, dptheta_dt]"
   ]
  },
  {
   "cell_type": "code",
   "execution_count": 7,
   "metadata": {
    "ExecuteTime": {
     "end_time": "2019-08-21T03:31:23.383591Z",
     "start_time": "2019-08-21T03:31:23.381057Z"
    }
   },
   "outputs": [],
   "source": [
    "c = cartpole({'mass_cart': 5, 'mass_pole': 2, 'length_pole': 1})"
   ]
  },
  {
   "cell_type": "code",
   "execution_count": 45,
   "metadata": {
    "ExecuteTime": {
     "end_time": "2019-08-21T03:45:06.836842Z",
     "start_time": "2019-08-21T03:45:06.828926Z"
    }
   },
   "outputs": [],
   "source": [
    "y0 = [0, 1, 0, 0]\n",
    "tmin, tmax = [0,10]\n",
    "time = np.linspace(tmin,tmax,int((tmax-tmin)/.01))\n",
    "res = integrate.solve_ivp(c.rhs, [tmin, tmax], y0, t_eval=time)"
   ]
  },
  {
   "cell_type": "code",
   "execution_count": null,
   "metadata": {},
   "outputs": [],
   "source": [
    "# Plot movie of the pendulum by using the idea from the turing pattern movies# Look at the SVD and interpret"
   ]
  },
  {
   "cell_type": "code",
   "execution_count": 47,
   "metadata": {
    "ExecuteTime": {
     "end_time": "2019-08-21T03:45:24.447087Z",
     "start_time": "2019-08-21T03:45:21.686713Z"
    }
   },
   "outputs": [
    {
     "data": {
      "image/jpeg": "[encoded data removed]",
      "text/plain": [
       "<IPython.core.display.Image object>"
      ]
     },
     "metadata": {},
     "output_type": "display_data"
    }
   ],
   "source": [
    "xmin,xmax = [min(res.y[0,:])-2*c.l, max(res.y[0,:])+2*c.l]\n",
    "ymin,ymax = [-2*c.l, 2*c.l]\n",
    "for i,t in enumerate(time):\n",
    "    if i%10==0:\n",
    "        fig, ax = plt.subplots(1)\n",
    "        ax.set_xlim([xmin,xmax])\n",
    "        ax.set_ylim([ymin,ymax])\n",
    "        ax.set_aspect('equal')\n",
    "\n",
    "        cm_pole = [res.y[0,i]+c.l*np.sin(res.y[2,i]), c.l*np.cos(res.y[2,i])]\n",
    "        ax.plot(res.y[0,:i]+c.l*np.sin(res.y[2,:i]), c.l*np.cos(res.y[2,:i]), ls='--', lw=1)\n",
    "\n",
    "        cm_cart = [res.y[0,i], 0]\n",
    "        ax.set_title(str(round(t, 2)), fontsize=20)\n",
    "        ax.plot([cm_cart[0], 2*(cm_pole[0]-cm_cart[0])+cm_cart[0]], [cm_cart[1], 2*cm_pole[1]], c='k')\n",
    "        ax.scatter(*cm_pole, marker='o', c='k')\n",
    "        ax.scatter(*cm_cart, marker='s', s=500, c='k')\n",
    "        ax.axis('off')\n",
    "        plt.close() # prevent print\n",
    "\n",
    "        canvas = FigureCanvas(fig)\n",
    "        canvas.draw()\n",
    "        s, (width, height) = canvas.print_to_buffer()\n",
    "        X = np.frombuffer(s, np.uint8).reshape((height, width, 4))\n",
    "\n",
    "        DisplayArray(color.rgb2gray(X))"
   ]
  },
  {
   "cell_type": "markdown",
   "metadata": {},
   "source": [
    "# Controllability"
   ]
  },
  {
   "cell_type": "code",
   "execution_count": null,
   "metadata": {},
   "outputs": [],
   "source": [
    "# Linearize the system with a (parameterized) matrix for the two fixed points"
   ]
  },
  {
   "cell_type": "code",
   "execution_count": null,
   "metadata": {},
   "outputs": [],
   "source": [
    "# Check for controllability by looking at the rank of the controllability matri\n",
    "# Look at the SVD and interpretx"
   ]
  },
  {
   "cell_type": "code",
   "execution_count": 2,
   "metadata": {
    "ExecuteTime": {
     "end_time": "2019-08-19T18:18:44.050889Z",
     "start_time": "2019-08-19T18:18:44.047919Z"
    }
   },
   "outputs": [],
   "source": [
    "# Check the behavior of placing eigenvalues deeper into the negative half-plane"
   ]
  },
  {
   "cell_type": "code",
   "execution_count": null,
   "metadata": {},
   "outputs": [],
   "source": [
    "# Run the lqr for choice of Q and R to find the optimal regulator\n",
    "# Look at the eigenvalues to learn what optimal control is doing\n",
    "# Should see that xdot and thetadot are VERY controllable."
   ]
  },
  {
   "cell_type": "markdown",
   "metadata": {},
   "source": [
    "# Observability"
   ]
  },
  {
   "cell_type": "code",
   "execution_count": null,
   "metadata": {},
   "outputs": [],
   "source": [
    "# Choose a sensor (let's say the position, x)\n",
    "# Construct the observability matrix and check for observability\n",
    "# Look at the SVD and interpret"
   ]
  },
  {
   "cell_type": "code",
   "execution_count": null,
   "metadata": {},
   "outputs": [],
   "source": [
    "# Is there an observable subsystem? Omit x."
   ]
  }
 ],
 "metadata": {
  "kernelspec": {
   "display_name": "Python 3",
   "language": "python",
   "name": "python3"
  },
  "latex_envs": {
   "LaTeX_envs_menu_present": true,
   "autoclose": false,
   "autocomplete": true,
   "bibliofile": "biblio.bib",
   "cite_by": "apalike",
   "current_citInitial": 1,
   "eqLabelWithNumbers": true,
   "eqNumInitial": 1,
   "hotkeys": {
    "equation": "Ctrl-E",
    "itemize": "Ctrl-I"
   },
   "labels_anchors": false,
   "latex_user_defs": false,
   "report_style_numbering": false,
   "user_envs_cfg": false
  },
  "toc": {
   "base_numbering": 1,
   "nav_menu": {},
   "number_sections": true,
   "sideBar": true,
   "skip_h1_title": false,
   "title_cell": "Table of Contents",
   "title_sidebar": "Contents",
   "toc_cell": false,
   "toc_position": {},
   "toc_section_display": true,
   "toc_window_display": false
  },
  "varInspector": {
   "cols": {
    "lenName": 16,
    "lenType": 16,
    "lenVar": 40
   },
   "kernels_config": {
    "python": {
     "delete_cmd_postfix": "",
     "delete_cmd_prefix": "del ",
     "library": "var_list.py",
     "varRefreshCmd": "print(var_dic_list())"
    },
    "r": {
     "delete_cmd_postfix": ") ",
     "delete_cmd_prefix": "rm(",
     "library": "var_list.r",
     "varRefreshCmd": "cat(var_dic_list()) "
    }
   },
   "types_to_exclude": [
    "module",
    "function",
    "builtin_function_or_method",
    "instance",
    "_Feature"
   ],
   "window_display": false
  }
 },
 "nbformat": 4,
 "nbformat_minor": 2
}
