{
 "cells": [
  {
   "cell_type": "markdown",
   "metadata": {},
   "source": [
    "# Load"
   ]
  },
  {
   "cell_type": "code",
   "execution_count": 396,
   "metadata": {
    "ExecuteTime": {
     "end_time": "2019-10-31T04:24:47.725641Z",
     "start_time": "2019-10-31T04:24:47.602924Z"
    }
   },
   "outputs": [],
   "source": [
    "%matplotlib inline\n",
    "# ^^^ Important for movies to work!"
   ]
  },
  {
   "cell_type": "code",
   "execution_count": 391,
   "metadata": {
    "ExecuteTime": {
     "end_time": "2019-10-31T04:24:48.080213Z",
     "start_time": "2019-10-31T04:24:48.005965Z"
    }
   },
   "outputs": [],
   "source": [
    "import numpy as np\n",
    "import scipy as sp\n",
    "from scipy import integrate, linalg, signal\n",
    "from time import sleep\n",
    "\n",
    "from IPython.display import HTML, display, Markdown\n",
    "import matplotlib.pyplot as plt"
   ]
  },
  {
   "cell_type": "code",
   "execution_count": 392,
   "metadata": {
    "ExecuteTime": {
     "end_time": "2019-10-31T04:24:49.021563Z",
     "start_time": "2019-10-31T04:24:48.405796Z"
    }
   },
   "outputs": [],
   "source": [
    "import importlib\n",
    "ch = importlib.import_module('control_helper')"
   ]
  },
  {
   "cell_type": "code",
   "execution_count": 393,
   "metadata": {
    "ExecuteTime": {
     "end_time": "2019-10-31T04:24:49.458646Z",
     "start_time": "2019-10-31T04:24:49.452532Z"
    }
   },
   "outputs": [],
   "source": [
    "ch = importlib.reload(ch)"
   ]
  },
  {
   "cell_type": "markdown",
   "metadata": {
    "heading_collapsed": true
   },
   "source": [
    "# Dynamics"
   ]
  },
  {
   "cell_type": "markdown",
   "metadata": {
    "hidden": true
   },
   "source": [
    "Note to the reader:\n",
    "The point of this notebook is to work out results somewhat explicitely, but many of these features can be accomplished by scipy.signal.StateSpace, also.\n",
    "\n",
    "Also, there are other movie options available in the helper python file but the ones shown here are best for version control purposes."
   ]
  },
  {
   "cell_type": "markdown",
   "metadata": {
    "hidden": true
   },
   "source": [
    "(in the repo, there is an accompanying mathematica notebook to work out these results)\n",
    "\n",
    "Solve the Hamilton equations of motion for the state variable X of the cartpole system to find the 1st order equation of motion $\\dot{X} = f(X,t)$:\n",
    "\n",
    "\\begin{align}\n",
    "    \\dot{x}        &= \\frac{- ml \\cos(\\theta) p_\\theta + ml^2 p_x }{d(\\theta)} \\\\\n",
    "    \\dot{p_x}      &= 0 \\\\\n",
    "    \\dot{\\theta}   &= \\frac{ (M+m) p_\\theta - ml \\cos(\\theta) p_x }{d(\\theta)} \\\\\n",
    "    \\dot{p_\\theta} &= - \\frac{l^2 m p_x^2 d'(\\theta )}{2 d(\\theta )^2}-\\frac{l m p_\\theta p_x \\cos (\\theta ) d'(\\theta )}{d(\\theta )^2}+\\frac{p_\\theta^2 (m+M) d'(\\theta )}{2 d(\\theta )^2}-\\frac{l m p_\\theta p_x \\sin (\\theta )}{d(\\theta )}+g l m \\sin (\\theta )\n",
    "\\end{align}\n",
    "\n",
    "with \n",
    "$d(\\theta) = ml^2 (M + m \\sin^2(\\theta) )$\n",
    "\n",
    "Use ode45 to time-evolve the dynamical system, and make a movie of the result."
   ]
  },
  {
   "cell_type": "markdown",
   "metadata": {
    "hidden": true
   },
   "source": [
    "Comments:\n",
    "- Gravity can be adjusted as an optional parameter to tool with the units.\n",
    "- (An advantage of Hamilton's formalism) Friction will affect the px equation of motion only."
   ]
  },
  {
   "cell_type": "code",
   "execution_count": 5,
   "metadata": {
    "ExecuteTime": {
     "end_time": "2019-10-31T04:24:53.521282Z",
     "start_time": "2019-10-31T04:24:50.972055Z"
    },
    "hidden": true
   },
   "outputs": [
    {
     "data": {
      "image/jpeg": "[encoded data removed]",
      "text/plain": [
       "<IPython.core.display.Image object>"
      ]
     },
     "metadata": {},
     "output_type": "display_data"
    }
   ],
   "source": [
    "# c = ch.cartpole({'mass_cart': 5, 'mass_pole': 2, 'length_pole': .75, 'gravity': 1})\n",
    "c = ch.cartpole({'mass_cart': 5, 'mass_pole': 2.1, 'length_pole': .75, 'gravity': 1})\n",
    "y0 = [0, 1, 0, 0]\n",
    "tmin, tmax = [0,9]\n",
    "time = np.linspace(tmin,tmax,int((tmax-tmin)/.01))\n",
    "res = integrate.solve_ivp(c.rhs, [tmin, tmax], y0, t_eval=time)\n",
    "\n",
    "x,px,th,pth = res.y\n",
    "ch.make_movie_with_buffer(c, x, th, time)"
   ]
  },
  {
   "cell_type": "code",
   "execution_count": 7,
   "metadata": {
    "ExecuteTime": {
     "end_time": "2019-10-31T04:25:05.599695Z",
     "start_time": "2019-10-31T04:25:04.303914Z"
    },
    "hidden": true
   },
   "outputs": [
    {
     "data": {
      "image/jpeg": "[encoded data removed]",
      "text/plain": [
       "<IPython.core.display.Image object>"
      ]
     },
     "metadata": {},
     "output_type": "display_data"
    }
   ],
   "source": [
    "c = ch.cartpole({'mass_cart': 1.492, 'mass_pole': 3, 'length_pole': .75, 'gravity': 2, 'friction': 1})\n",
    "\n",
    "y0 = [0, 5, 0, 0]\n",
    "tmin, tmax = [0,5]\n",
    "time = np.linspace(tmin,tmax,int((tmax-tmin)/.01))\n",
    "res = integrate.solve_ivp(c.rhs, [tmin, tmax], y0, t_eval=time)\n",
    "\n",
    "x,px,th,pth = res.y\n",
    "ch.make_movie_with_buffer(c, x, th, time)"
   ]
  },
  {
   "cell_type": "markdown",
   "metadata": {
    "heading_collapsed": true
   },
   "source": [
    "# Controllability"
   ]
  },
  {
   "cell_type": "markdown",
   "metadata": {
    "hidden": true
   },
   "source": [
    "Find the fixed points of the dynamics. Then, compute the Jacobian and evaluate the result at the fixed points of \n",
    "$p_x \\rightarrow 0, p_\\theta \\rightarrow 0, \\theta \\rightarrow 0, \\pi$:\n",
    "\n",
    "\\[\n",
    "    J = \\left(\n",
    "    \\begin{array}{cccc}\n",
    "     0 & \\frac{1}{M} & 0 & -\\frac{1}{l M} \\\\\n",
    "     0 & -\\frac{\\eta }{M} & 0 & \\frac{\\eta }{l M} \\\\\n",
    "     0 & -\\frac{1}{l M} & 0 & \\frac{m+M}{l^2 m M} \\\\\n",
    "     0 & 0 & g l m & 0 \\\\\n",
    "    \\end{array}\n",
    "    \\right)\n",
    "\\]\n",
    "\n",
    "The variable $s$ holds the sign associated with $\\pi \\Rightarrow s = -1$ and $0 \\Rightarrow s = 1$. The $\\eta$ refers to friction."
   ]
  },
  {
   "cell_type": "markdown",
   "metadata": {
    "hidden": true
   },
   "source": [
    "## Stable fixed point"
   ]
  },
  {
   "cell_type": "code",
   "execution_count": 187,
   "metadata": {
    "ExecuteTime": {
     "end_time": "2019-10-31T04:26:14.946823Z",
     "start_time": "2019-10-31T04:26:13.492106Z"
    },
    "hidden": true
   },
   "outputs": [
    {
     "data": {
      "image/jpeg": "[encoded data removed]",
      "text/plain": [
       "<IPython.core.display.Image object>"
      ]
     },
     "metadata": {},
     "output_type": "display_data"
    }
   ],
   "source": [
    "# Control system\n",
    "c = ch.cartpole({'mass_cart': 5, 'mass_pole': 2.1, 'length_pole': .75, 'gravity': 1, 'friction': 0})\n",
    "tmin, tmax = [0,5.5]\n",
    "time = np.linspace(tmin,tmax,int((tmax-tmin)/.1))\n",
    "\n",
    "ys = np.array([0, 0,np.pi,0])\n",
    "y0 = np.array([0, 0,np.pi+0.5,0])\n",
    "\n",
    "linear_res = np.array([sp.linalg.expm(c.A(-1) * t)@(y0-ys)+ys for t in time])\n",
    "x,px,th,pth = linear_res.T\n",
    "                   \n",
    "ch.make_movie_with_buffer(c, x, th, time, tdiv=1)"
   ]
  },
  {
   "cell_type": "markdown",
   "metadata": {
    "hidden": true
   },
   "source": [
    "## Unstable fixed point"
   ]
  },
  {
   "cell_type": "code",
   "execution_count": 7,
   "metadata": {
    "ExecuteTime": {
     "end_time": "2019-10-31T04:26:24.215597Z",
     "start_time": "2019-10-31T04:26:22.638020Z"
    },
    "hidden": true,
    "scrolled": false
   },
   "outputs": [
    {
     "data": {
      "image/jpeg": "[encoded data removed]",
      "text/plain": [
       "<IPython.core.display.Image object>"
      ]
     },
     "metadata": {},
     "output_type": "display_data"
    }
   ],
   "source": [
    "yf = np.array([0, 0, 0, 0]) # fixed point of expansion\n",
    "y0 = np.array([0, 0,0.001,0]) # displacement\n",
    "\n",
    "tmin, tmax = [0, 5.5]\n",
    "time = np.linspace(tmin,tmax,int((tmax-tmin)/.01))\n",
    "                   \n",
    "# Notice how it spirals away. We want to control this.\n",
    "linear_res = np.array([sp.linalg.expm(c.A(1) * t)@(y0-yf)+yf for t in time])\n",
    "x,px,th,pth = linear_res.T\n",
    "ch.make_movie_with_buffer(c, x, th, time)"
   ]
  },
  {
   "cell_type": "code",
   "execution_count": 8,
   "metadata": {
    "ExecuteTime": {
     "end_time": "2019-10-31T04:26:31.844601Z",
     "start_time": "2019-10-31T04:26:30.342494Z"
    },
    "hidden": true
   },
   "outputs": [
    {
     "data": {
      "image/jpeg": "[encoded data removed]",
      "text/plain": [
       "<IPython.core.display.Image object>"
      ]
     },
     "metadata": {},
     "output_type": "display_data"
    }
   ],
   "source": [
    "# Notice the correct dynamics for our unstable fixed point do not spiral away.      \n",
    "# (Run the previous cell immediately before this one.)\n",
    "res = integrate.solve_ivp(c.rhs, [tmin, tmax], y0, t_eval=time)\n",
    "x,px,th,pth = res.y\n",
    "ch.make_movie_with_buffer(c, x, th, time)"
   ]
  },
  {
   "cell_type": "markdown",
   "metadata": {
    "heading_collapsed": true,
    "hidden": true
   },
   "source": [
    "## Placing control poles"
   ]
  },
  {
   "cell_type": "code",
   "execution_count": 10,
   "metadata": {
    "ExecuteTime": {
     "end_time": "2019-10-31T04:26:54.240803Z",
     "start_time": "2019-10-31T04:26:52.880766Z"
    },
    "hidden": true
   },
   "outputs": [
    {
     "data": {
      "image/jpeg": "[encoded data removed]",
      "text/plain": [
       "<IPython.core.display.Image object>"
      ]
     },
     "metadata": {},
     "output_type": "display_data"
    }
   ],
   "source": [
    "# Control aggressively\n",
    "A = c.A(1)\n",
    "B = c.B(2)\n",
    "fsf = signal.place_poles(A, B, [-1-1j,-1+1j,-2-2j,-2+2j])\n",
    "K = fsf.gain_matrix\n",
    "\n",
    "yf = np.array([0, 0, 0, 0]) # fixed point of expansion\n",
    "y0 = np.array([0, 0, np.pi/3, 0]) # displacement\n",
    "\n",
    "tmin, tmax = [0, 10]\n",
    "time = np.linspace(tmin,tmax,int((tmax-tmin)/.1))\n",
    "                   \n",
    "linear_res = np.array([sp.linalg.expm((A-B@K) * t)@(y0-yf)+yf for t in time])\n",
    "x,px,th,pth = linear_res.T\n",
    "\n",
    "ch.make_movie_with_buffer(c, x, th, time, tdiv=2)"
   ]
  },
  {
   "cell_type": "code",
   "execution_count": 11,
   "metadata": {
    "ExecuteTime": {
     "end_time": "2019-10-31T04:27:05.779398Z",
     "start_time": "2019-10-31T04:27:03.596698Z"
    },
    "hidden": true
   },
   "outputs": [
    {
     "data": {
      "image/jpeg": "[encoded data removed]",
      "text/plain": [
       "<IPython.core.display.Image object>"
      ]
     },
     "metadata": {},
     "output_type": "display_data"
    }
   ],
   "source": [
    "# Control weakly\n",
    "A = c.A(1)\n",
    "B = c.B(2)\n",
    "\n",
    "fsf = signal.place_poles(A, B, [-.3-1j,-.3+1j,-.5-2j,-.5+2j])\n",
    "K = fsf.gain_matrix\n",
    "\n",
    "yf = np.array([0, 0, 0, 0]) # fixed point of expansion\n",
    "y0 = np.array([0, 0, np.pi/3, 0]) # displacement\n",
    "\n",
    "tmin, tmax = [0, 15]\n",
    "time = np.linspace(tmin,tmax,int((tmax-tmin)/.1))\n",
    "                   \n",
    "linear_res = np.array([sp.linalg.expm((A-B@K) * t)@(y0-yf)+yf for t in time])\n",
    "x,px,th,pth = linear_res.T\n",
    "ch.make_movie_with_buffer(c, x, th, time, tdiv=2)"
   ]
  },
  {
   "cell_type": "markdown",
   "metadata": {
    "heading_collapsed": true,
    "hidden": true
   },
   "source": [
    "## Linear Quadratic Regulator\n",
    "Solve the algebraic ricatti equation to get a solution for the optimal control operator"
   ]
  },
  {
   "cell_type": "code",
   "execution_count": 12,
   "metadata": {
    "ExecuteTime": {
     "end_time": "2019-10-31T04:27:23.737833Z",
     "start_time": "2019-10-31T04:27:17.415020Z"
    },
    "hidden": true
   },
   "outputs": [
    {
     "data": {
      "image/jpeg": "[encoded data removed]",
      "text/plain": [
       "<IPython.core.display.Image object>"
      ]
     },
     "metadata": {},
     "output_type": "display_data"
    }
   ],
   "source": [
    "A = c.A(1)\n",
    "B = c.B(1)\n",
    "\n",
    "Q = np.array([\n",
    "    [1,0,0,0],\n",
    "    [0,1,0,0],\n",
    "    [0,0,10,0],\n",
    "    [0,0,0,100]\n",
    "])\n",
    "\n",
    "R = np.array([[10]])\n",
    "K,_,_ = ch.lqr(A,B,Q,R)\n",
    "\n",
    "yf = np.array([0, 0, 0, 0]) # fixed point of expansion\n",
    "y0 = np.array([0, 0, np.pi/3, 0]) # displacement\n",
    "\n",
    "tmin, tmax = [0, 45]\n",
    "time = np.linspace(tmin,tmax,int((tmax-tmin)/0.1))\n",
    "\n",
    "linear_res = np.array([sp.linalg.expm((A-B@K) * t)@(y0-yf)+yf for t in time])\n",
    "x,px,th,pth = linear_res.T\n",
    "ch.make_movie_with_buffer(c, x, th, time, tdiv=2)"
   ]
  },
  {
   "cell_type": "code",
   "execution_count": 2,
   "metadata": {
    "ExecuteTime": {
     "end_time": "2019-08-19T18:18:44.050889Z",
     "start_time": "2019-08-19T18:18:44.047919Z"
    },
    "hidden": true
   },
   "outputs": [],
   "source": [
    "# Check for controllability by looking at the rank of the controllability matrix\n",
    "# Look at the SVD and interpret\n",
    "\n",
    "# Check the behavior of placing eigenvalues deeper into the negative half-plane"
   ]
  },
  {
   "cell_type": "code",
   "execution_count": null,
   "metadata": {
    "hidden": true
   },
   "outputs": [],
   "source": [
    "# Run the lqr for choice of Q and R to find the optimal regulator\n",
    "# Look at the eigenvalues to learn what optimal control is doing\n",
    "# Should see that xdot and thetadot are VERY controllable."
   ]
  },
  {
   "cell_type": "markdown",
   "metadata": {},
   "source": [
    "# Observability"
   ]
  },
  {
   "cell_type": "code",
   "execution_count": 56,
   "metadata": {},
   "outputs": [],
   "source": [
    "def obsv(C,A):\n",
    "    return np.array([C@np.linalg.matrix_power(A,n) for n in range(A.shape[0])])"
   ]
  },
  {
   "cell_type": "code",
   "execution_count": 63,
   "metadata": {},
   "outputs": [
    {
     "data": {
      "text/markdown": [
       "The rank of the observability matrix for x is 4. The system is observable."
      ],
      "text/plain": [
       "<IPython.core.display.Markdown object>"
      ]
     },
     "metadata": {},
     "output_type": "display_data"
    },
    {
     "data": {
      "text/markdown": [
       "The rank of the observability matrix for $\\theta$ is 2. The system is not observable."
      ],
      "text/plain": [
       "<IPython.core.display.Markdown object>"
      ]
     },
     "metadata": {},
     "output_type": "display_data"
    },
    {
     "data": {
      "text/plain": [
       "array([[ 0.        ,  0.        ,  1.        ,  0.        ],\n",
       "       [ 0.        , -0.53333333,  0.        ,  4.80846561],\n",
       "       [ 0.        ,  0.        ,  3.78666667,  0.        ],\n",
       "       [ 0.        , -2.01955556,  0.        , 18.20805644]])"
      ]
     },
     "execution_count": 63,
     "metadata": {},
     "output_type": "execute_result"
    }
   ],
   "source": [
    "# Let's try a few measurements and check the observability of our system.\n",
    "c = ch.cartpole({'mass_cart': 5, 'mass_pole': 2.1, 'length_pole': .75, 'gravity': 1, 'friction': 0})\n",
    "tmin, tmax = [0,20]\n",
    "time = np.linspace(tmin,tmax,int((tmax-tmin)/.01))\n",
    "\n",
    "# Linearize around pendulum up\n",
    "A = c.A(1)\n",
    "# Unit forcing\n",
    "B = c.B(1)\n",
    "\n",
    "# Choose a measurement\n",
    "C_x = np.array([1,0,0,0])\n",
    "# Compute the observability matrix and its rank\n",
    "display(Markdown(r\"The rank of the observability matrix for x is {}. The system is observable.\"\n",
    "                 .format(np.linalg.matrix_rank(obsv(C_x, A)))))\n",
    "\n",
    "\n",
    "# Choose a measurement\n",
    "C_th = np.array([0,0,1,0])\n",
    "res = obsv(C_th, A)\n",
    "# Compute the observability matrix and its rank\n",
    "display(Markdown(r\"The rank of the observability matrix for $\\theta$ is {}. The system is not observable.\"\n",
    "                 .format(np.linalg.matrix_rank(res))))\n",
    "res"
   ]
  },
  {
   "cell_type": "markdown",
   "metadata": {},
   "source": [
    "We see that measuring x is observable but measuring $\\theta$ is not. If we look at the $\\theta$ observability matrix, we see that the column associated with x hints at the underlying independence of the position and the dynamics (the motion is symmetric under translation--inspect the Hamiltonian). What if we only care about a subspace of the full system for stability?"
   ]
  },
  {
   "cell_type": "code",
   "execution_count": 69,
   "metadata": {},
   "outputs": [
    {
     "data": {
      "text/markdown": [
       "The rank of the reduced\n",
       "                     observability matrix for $\\theta$ is 2"
      ],
      "text/plain": [
       "<IPython.core.display.Markdown object>"
      ]
     },
     "metadata": {},
     "output_type": "display_data"
    }
   ],
   "source": [
    "res = obsv(np.array([0,1,0]), A[1:,1:])\n",
    "display(Markdown(r\"\"\"The rank of the reduced\n",
    "                     observability matrix for $\\theta$ is {}\"\"\".format(np.linalg.matrix_rank(res))))"
   ]
  },
  {
   "cell_type": "markdown",
   "metadata": {},
   "source": [
    "In a strange twist, I find that the system is not observable when I measure theta. Meanwhile, in coordinates where momentum is replaced with velocity, the system [was found to be observable](http://www.youtube.com/watch?v=DLytfA10RR8&t=3m39s). This indicates that our momenta coordinates are actually less ideal than velocities."
   ]
  },
  {
   "cell_type": "code",
   "execution_count": null,
   "metadata": {},
   "outputs": [],
   "source": [
    "# We could now inspect the observability grammian. The volume tells you what coordinates are best for estimation.\n",
    "# In particular, the size of the eigenvalue tells you how controllable we are in that direction. "
   ]
  },
  {
   "cell_type": "code",
   "execution_count": 433,
   "metadata": {},
   "outputs": [
    {
     "data": {
      "image/jpeg": "[encoded data removed]",
      "text/plain": [
       "<IPython.core.display.Image object>"
      ]
     },
     "metadata": {},
     "output_type": "display_data"
    }
   ],
   "source": [
    "# We'll look at the pendulum down position\n",
    "c = ch.cartpole({'mass_cart': 5, 'mass_pole': 1, 'length_pole': 4, 'gravity': 10, 'friction': 0})\n",
    "tmin, tmax = [0,50.5]\n",
    "dt=.01\n",
    "time = np.linspace(tmin,tmax,int((tmax-tmin)/dt))\n",
    "\n",
    "A = c.A(-1)\n",
    "B = c.B(1)\n",
    "C = np.array([[1,0,0,0]])\n",
    "D = np.zeros([C.shape[0], B.shape[1]])\n",
    "ss = signal.StateSpace(A, B, C, D)\n",
    "\n",
    "x0 = np.array([0, 0, 0.5, 0]) # relative to stationary point\n",
    "xs = np.array([[0],[0],[np.pi],[0]])\n",
    "tout, yout, xout = signal.lsim(ss, np.zeros_like(time[:500]), time[:500], x0)\n",
    "x,px,th,pth = xout.T - xs\n",
    "\n",
    "ch.make_movie_with_buffer(c, x, th, tout, tdiv=10)"
   ]
  },
  {
   "cell_type": "code",
   "execution_count": 434,
   "metadata": {},
   "outputs": [],
   "source": [
    "# Augment the system with disturbances and noise\n",
    "Wd = .1*np.identity(4)\n",
    "Wn = np.array([[1]])\n",
    "\n",
    "# Augmented control system inputs are (u, d, n)\n",
    "augB = np.hstack([B, Wd, np.zeros([A.shape[0],Wn.shape[1]])])\n",
    "augD = np.hstack([D, np.zeros([C.shape[0],Wd.shape[1]]), Wn])\n",
    "augSS = signal.StateSpace(A,augB,C,augD)\n",
    "\n",
    "# Kalman filter computes the dynamics of x_hat using measurements C and the model A, B\n",
    "Kf = ch.lqr(A.T, C.T, Wd, Wn)[0].T\n",
    "kfSS = signal.StateSpace(A-Kf@C, np.hstack([B, Kf]), np.identity(A.shape[0]), 0*np.hstack([B, Kf]))\n",
    "\n",
    "# Simulate the system\n",
    "d = np.random.multivariate_normal(np.zeros(A.shape[0]), Wd, len(time))\n",
    "n = np.random.multivariate_normal(np.zeros(C.shape[0]), Wn, len(time))\n",
    "u = np.zeros([len(time), B.shape[1]])\n",
    "u[100:120] = 100 # 0.2 second pulse\n",
    "u[1500:1520] = -100\n",
    "augU = np.hstack([u, d, n])\n",
    "tout, yout, xout = signal.lsim(augSS, augU, time)\n",
    "\n",
    "# Use measurement and control signal to reconstruct the system\n",
    "kf_u = np.hstack([u, yout.reshape(len(time),-1)])\n",
    "kf_tout, kf_yout, kf_xout = signal.lsim(kfSS, kf_u, time)"
   ]
  },
  {
   "cell_type": "code",
   "execution_count": 435,
   "metadata": {},
   "outputs": [
    {
     "data": {
      "image/jpeg": "[encoded data removed]",
      "text/plain": [
       "<IPython.core.display.Image object>"
      ]
     },
     "metadata": {},
     "output_type": "display_data"
    }
   ],
   "source": [
    "x,px,th,pth = xout.T - xs\n",
    "ch.make_movie_with_buffer(c, x, th, tout, tdiv=20)"
   ]
  },
  {
   "cell_type": "code",
   "execution_count": 436,
   "metadata": {},
   "outputs": [
    {
     "data": {
      "text/plain": [
       "[<matplotlib.lines.Line2D at 0x1c3ee388d0>]"
      ]
     },
     "execution_count": 436,
     "metadata": {},
     "output_type": "execute_result"
    },
    {
     "data": {
      "image/png": "[encoded data removed]",
      "text/plain": [
       "<Figure size 648x432 with 3 Axes>"
      ]
     },
     "metadata": {
      "needs_background": "light"
     },
     "output_type": "display_data"
    }
   ],
   "source": [
    "fig, axes = plt.subplots(3,1, figsize=[9,6])\n",
    "axes[0].plot(time, yout, label='Measurement')\n",
    "axes[1].plot(tout, kf_yout[:,0], label='Kalman')\n",
    "axes[1].plot(tout, xout[:,0], label='State')\n",
    "axes[1].legend()\n",
    "axes[2].plot(tout, u)"
   ]
  },
  {
   "cell_type": "code",
   "execution_count": 437,
   "metadata": {},
   "outputs": [
    {
     "data": {
      "text/plain": [
       "<matplotlib.legend.Legend at 0x1c2675d1d0>"
      ]
     },
     "execution_count": 437,
     "metadata": {},
     "output_type": "execute_result"
    },
    {
     "data": {
      "image/png": "[encoded data removed]",
      "text/plain": [
       "<Figure size 648x216 with 1 Axes>"
      ]
     },
     "metadata": {
      "needs_background": "light"
     },
     "output_type": "display_data"
    }
   ],
   "source": [
    "fig, ax = plt.subplots(1, figsize=[9,3])\n",
    "ax.plot(tout, kf_yout[:,2], label='Kalman', ls='--')\n",
    "ax.plot(tout, xout[:,2], label='State')\n",
    "ax.legend()"
   ]
  },
  {
   "cell_type": "markdown",
   "metadata": {},
   "source": [
    "# Observability and Controllability"
   ]
  },
  {
   "cell_type": "code",
   "execution_count": null,
   "metadata": {},
   "outputs": [],
   "source": []
  },
  {
   "cell_type": "code",
   "execution_count": null,
   "metadata": {},
   "outputs": [],
   "source": []
  }
 ],
 "metadata": {
  "kernelspec": {
   "display_name": "Python 3",
   "language": "python",
   "name": "python3"
  },
  "language_info": {
   "codemirror_mode": {
    "name": "ipython",
    "version": 3
   },
   "file_extension": ".py",
   "mimetype": "text/x-python",
   "name": "python",
   "nbconvert_exporter": "python",
   "pygments_lexer": "ipython3",
   "version": "3.7.4"
  },
  "latex_envs": {
   "LaTeX_envs_menu_present": true,
   "autoclose": false,
   "autocomplete": true,
   "bibliofile": "biblio.bib",
   "cite_by": "apalike",
   "current_citInitial": 1,
   "eqLabelWithNumbers": true,
   "eqNumInitial": 1,
   "hotkeys": {
    "equation": "Ctrl-E",
    "itemize": "Ctrl-I"
   },
   "labels_anchors": false,
   "latex_user_defs": false,
   "report_style_numbering": false,
   "user_envs_cfg": false
  },
  "toc": {
   "base_numbering": 1,
   "nav_menu": {},
   "number_sections": true,
   "sideBar": true,
   "skip_h1_title": false,
   "title_cell": "Table of Contents",
   "title_sidebar": "Contents",
   "toc_cell": false,
   "toc_position": {},
   "toc_section_display": true,
   "toc_window_display": true
  },
  "varInspector": {
   "cols": {
    "lenName": 16,
    "lenType": 16,
    "lenVar": 40
   },
   "kernels_config": {
    "python": {
     "delete_cmd_postfix": "",
     "delete_cmd_prefix": "del ",
     "library": "var_list.py",
     "varRefreshCmd": "print(var_dic_list())"
    },
    "r": {
     "delete_cmd_postfix": ") ",
     "delete_cmd_prefix": "rm(",
     "library": "var_list.r",
     "varRefreshCmd": "cat(var_dic_list()) "
    }
   },
   "types_to_exclude": [
    "module",
    "function",
    "builtin_function_or_method",
    "instance",
    "_Feature"
   ],
   "window_display": false
  }
 },
 "nbformat": 4,
 "nbformat_minor": 2
}
