{
 "cells": [
  {
   "cell_type": "markdown",
   "metadata": {},
   "source": [
    "# Load"
   ]
  },
  {
   "cell_type": "code",
   "execution_count": 2,
   "metadata": {
    "ExecuteTime": {
     "end_time": "2019-10-31T04:24:47.725641Z",
     "start_time": "2019-10-31T04:24:47.602924Z"
    }
   },
   "outputs": [],
   "source": [
    "%matplotlib inline"
   ]
  },
  {
   "cell_type": "code",
   "execution_count": 3,
   "metadata": {
    "ExecuteTime": {
     "end_time": "2019-10-31T04:24:48.080213Z",
     "start_time": "2019-10-31T04:24:48.005965Z"
    }
   },
   "outputs": [],
   "source": [
    "import numpy as np\n",
    "import scipy as sp\n",
    "from scipy import integrate\n",
    "from time import sleep\n",
    "\n",
    "from IPython.display import HTML\n",
    "import matplotlib.pyplot as plt"
   ]
  },
  {
   "cell_type": "code",
   "execution_count": 4,
   "metadata": {
    "ExecuteTime": {
     "end_time": "2019-10-31T04:24:49.021563Z",
     "start_time": "2019-10-31T04:24:48.405796Z"
    }
   },
   "outputs": [],
   "source": [
    "import importlib\n",
    "ch = importlib.import_module('control_helper')"
   ]
  },
  {
   "cell_type": "code",
   "execution_count": 5,
   "metadata": {
    "ExecuteTime": {
     "end_time": "2019-10-31T04:24:49.458646Z",
     "start_time": "2019-10-31T04:24:49.452532Z"
    }
   },
   "outputs": [],
   "source": [
    "ch = importlib.reload(ch)"
   ]
  },
  {
   "cell_type": "markdown",
   "metadata": {},
   "source": [
    "# Dynamics"
   ]
  },
  {
   "cell_type": "markdown",
   "metadata": {},
   "source": [
    "Note to the reader:\n",
    "The point of this notebook is to work out results somewhat explicitely, but many of these features can be accomplished by scipy.signal.StateSpace, also.\n",
    "\n",
    "Also, there are other movie options available but the ones shown here are best for version control purposes."
   ]
  },
  {
   "cell_type": "markdown",
   "metadata": {},
   "source": [
    "(in the repo, there is an accompanying mathematica notebook to help explore these results)\n",
    "\n",
    "Solve the Hamilton equations of motion for the state variable X of the cartpole system to find the 1st order equation of motion $\\dot{X} = f(X,t)$:\n",
    "\n",
    "\\begin{align}\n",
    "    \\dot{x}        &= \\frac{- ml \\cos(\\theta) p_\\theta + ml^2 p_x }{d(\\theta)} \\\\\n",
    "    \\dot{p_x}      &= 0 \\\\\n",
    "    \\dot{\\theta}   &= \\frac{ (M+m) p_\\theta - ml \\cos(\\theta) p_x }{d(\\theta)} \\\\\n",
    "    \\dot{p_\\theta} &= - \\frac{l^2 m p_x^2 d'(\\theta )}{2 d(\\theta )^2}-\\frac{l m p_\\theta p_x \\cos (\\theta ) d'(\\theta )}{d(\\theta )^2}+\\frac{p_\\theta^2 (m+M) d'(\\theta )}{2 d(\\theta )^2}-\\frac{l m p_\\theta p_x \\sin (\\theta )}{d(\\theta )}+g l m \\sin (\\theta )\n",
    "\\end{align}\n",
    "\n",
    "with \n",
    "$d(\\theta) = ml^2 (M + m \\sin^2(\\theta) )$\n",
    "\n",
    "Use ode45 to time-evolve the dynamical system, and make a movie of the result."
   ]
  },
  {
   "cell_type": "markdown",
   "metadata": {},
   "source": [
    "Comments:\n",
    "- Gravity can be adjusted as an optional parameter to tool with the units.\n",
    "- (An advantage of Hamilton's formalism) Friction will affect the px equation of motion only."
   ]
  },
  {
   "cell_type": "code",
   "execution_count": 6,
   "metadata": {
    "ExecuteTime": {
     "end_time": "2019-10-31T04:24:53.521282Z",
     "start_time": "2019-10-31T04:24:50.972055Z"
    }
   },
   "outputs": [
    {
     "data": {
      "image/jpeg": "[encoded data removed]",
      "text/plain": [
       "<IPython.core.display.Image object>"
      ]
     },
     "metadata": {},
     "output_type": "display_data"
    }
   ],
   "source": [
    "# c = ch.cartpole({'mass_cart': 5, 'mass_pole': 2, 'length_pole': .75, 'gravity': 1})\n",
    "c = ch.cartpole({'mass_cart': 5, 'mass_pole': 2.1, 'length_pole': .75, 'gravity': 1})\n",
    "y0 = [0, 1, 0, 0]\n",
    "tmin, tmax = [0,9]\n",
    "time = np.linspace(tmin,tmax,int((tmax-tmin)/.01))\n",
    "res = integrate.solve_ivp(c.rhs, [tmin, tmax], y0, t_eval=time)\n",
    "\n",
    "x,px,th,pth = res.y\n",
    "ch.make_movie_with_buffer(c, x, th, time)"
   ]
  },
  {
   "cell_type": "code",
   "execution_count": 7,
   "metadata": {
    "ExecuteTime": {
     "end_time": "2019-10-31T04:25:05.599695Z",
     "start_time": "2019-10-31T04:25:04.303914Z"
    }
   },
   "outputs": [
    {
     "data": {
      "image/jpeg": "[encoded data removed]",
      "text/plain": [
       "<IPython.core.display.Image object>"
      ]
     },
     "metadata": {},
     "output_type": "display_data"
    }
   ],
   "source": [
    "c = ch.cartpole({'mass_cart': 1.492, 'mass_pole': 3, 'length_pole': .75, 'gravity': 2, 'friction': 1})\n",
    "\n",
    "y0 = [0, 5, 0, 0]\n",
    "tmin, tmax = [0,5]\n",
    "time = np.linspace(tmin,tmax,int((tmax-tmin)/.01))\n",
    "res = integrate.solve_ivp(c.rhs, [tmin, tmax], y0, t_eval=time)\n",
    "\n",
    "x,px,th,pth = res.y\n",
    "ch.make_movie_with_buffer(c, x, th, time)"
   ]
  },
  {
   "cell_type": "markdown",
   "metadata": {},
   "source": [
    "# Controllability"
   ]
  },
  {
   "cell_type": "markdown",
   "metadata": {},
   "source": [
    "Find the fixed points of the dynamics. Then, compute the Jacobian and evaluate the result at the fixed points of \n",
    "$p_x \\rightarrow 0, p_\\theta \\rightarrow 0, \\theta \\rightarrow 0, \\pi$:\n",
    "\n",
    "\\[\n",
    "    J = \\left(\n",
    "    \\begin{array}{cccc}\n",
    "     0 & \\frac{1}{M} & 0 & -\\frac{1}{l M} \\\\\n",
    "     0 & -\\frac{\\eta }{M} & 0 & \\frac{\\eta }{l M} \\\\\n",
    "     0 & -\\frac{1}{l M} & 0 & \\frac{m+M}{l^2 m M} \\\\\n",
    "     0 & 0 & g l m & 0 \\\\\n",
    "    \\end{array}\n",
    "    \\right)\n",
    "\\]\n",
    "\n",
    "The variable $s$ holds the sign associated with $\\pi \\Rightarrow s = -1$ and $0 \\Rightarrow s = 1$. The $\\eta$ refers to friction."
   ]
  },
  {
   "cell_type": "markdown",
   "metadata": {},
   "source": [
    "## Stable fixed point"
   ]
  },
  {
   "cell_type": "code",
   "execution_count": 9,
   "metadata": {
    "ExecuteTime": {
     "end_time": "2019-10-31T04:26:14.946823Z",
     "start_time": "2019-10-31T04:26:13.492106Z"
    }
   },
   "outputs": [
    {
     "data": {
      "image/jpeg": "[encoded data removed]",
      "text/plain": [
       "<IPython.core.display.Image object>"
      ]
     },
     "metadata": {},
     "output_type": "display_data"
    }
   ],
   "source": [
    "# Control system\n",
    "c = ch.cartpole({'mass_cart': 5, 'mass_pole': 2.1, 'length_pole': .75, 'gravity': 1, 'friction': 0})\n",
    "tmin, tmax = [0,5.5]\n",
    "time = np.linspace(tmin,tmax,int((tmax-tmin)/.1))\n",
    "\n",
    "yf = np.array([0, 0,np.pi,0])\n",
    "y0 = np.array([0, 0,np.pi+0.5,0])\n",
    "\n",
    "linear_res = np.array([sp.linalg.expm(c.A(-1) * t)@(y0-yf)+yf for t in time])\n",
    "x,px,th,pth = linear_res.T\n",
    "                   \n",
    "ch.make_movie_with_buffer(c, x, th, time, tdiv=1)"
   ]
  },
  {
   "cell_type": "markdown",
   "metadata": {},
   "source": [
    "## Unstable fixed point"
   ]
  },
  {
   "cell_type": "code",
   "execution_count": 10,
   "metadata": {
    "ExecuteTime": {
     "end_time": "2019-10-31T04:26:24.215597Z",
     "start_time": "2019-10-31T04:26:22.638020Z"
    },
    "scrolled": false
   },
   "outputs": [
    {
     "data": {
      "image/jpeg": "[encoded data removed]",
      "text/plain": [
       "<IPython.core.display.Image object>"
      ]
     },
     "metadata": {},
     "output_type": "display_data"
    }
   ],
   "source": [
    "yf = np.array([0, 0, 0, 0]) # fixed point of expansion\n",
    "y0 = np.array([0, 0,0.001,0]) # displacement\n",
    "\n",
    "tmin, tmax = [0, 5.5]\n",
    "time = np.linspace(tmin,tmax,int((tmax-tmin)/.01))\n",
    "                   \n",
    "# Notice how it spirals away. We want to control this.\n",
    "linear_res = np.array([sp.linalg.expm(c.A(1) * t)@(y0-yf)+yf for t in time])\n",
    "x,px,th,pth = linear_res.T\n",
    "ch.make_movie_with_buffer(c, x, th, time)"
   ]
  },
  {
   "cell_type": "code",
   "execution_count": 11,
   "metadata": {
    "ExecuteTime": {
     "end_time": "2019-10-31T04:26:31.844601Z",
     "start_time": "2019-10-31T04:26:30.342494Z"
    }
   },
   "outputs": [
    {
     "data": {
      "image/jpeg": "[encoded data removed]",
      "text/plain": [
       "<IPython.core.display.Image object>"
      ]
     },
     "metadata": {},
     "output_type": "display_data"
    }
   ],
   "source": [
    "# Notice the correct dynamics for our unstable fixed point do not spiral away.      \n",
    "# (Run the previous cell immediately before this one.)\n",
    "res = integrate.solve_ivp(c.rhs, [tmin, tmax], y0, t_eval=time)\n",
    "x,px,th,pth = res.y\n",
    "ch.make_movie_with_buffer(c, x, th, time)"
   ]
  },
  {
   "cell_type": "markdown",
   "metadata": {},
   "source": [
    "## Placing control poles"
   ]
  },
  {
   "cell_type": "code",
   "execution_count": 13,
   "metadata": {
    "ExecuteTime": {
     "end_time": "2019-10-31T04:26:42.612335Z",
     "start_time": "2019-10-31T04:26:42.608091Z"
    }
   },
   "outputs": [],
   "source": [
    "from scipy import signal"
   ]
  },
  {
   "cell_type": "code",
   "execution_count": 16,
   "metadata": {
    "ExecuteTime": {
     "end_time": "2019-10-31T04:26:54.240803Z",
     "start_time": "2019-10-31T04:26:52.880766Z"
    }
   },
   "outputs": [
    {
     "data": {
      "image/jpeg": "[encoded data removed]",
      "text/plain": [
       "<IPython.core.display.Image object>"
      ]
     },
     "metadata": {},
     "output_type": "display_data"
    }
   ],
   "source": [
    "# Control aggressively\n",
    "A = c.A(1)\n",
    "B = c.B(2)\n",
    "fsf = signal.place_poles(A, B, [-1-1j,-1+1j,-2-2j,-2+2j])\n",
    "K = fsf.gain_matrix\n",
    "\n",
    "yf = np.array([0, 0, 0, 0]) # fixed point of expansion\n",
    "y0 = np.array([0, 0, np.pi/3, 0]) # displacement\n",
    "\n",
    "tmin, tmax = [0, 10]\n",
    "time = np.linspace(tmin,tmax,int((tmax-tmin)/.1))\n",
    "                   \n",
    "linear_res = np.array([sp.linalg.expm((A-B@K) * t)@(y0-yf)+yf for t in time])\n",
    "x,px,th,pth = linear_res.T\n",
    "\n",
    "ch.make_movie_with_buffer(c, x, th, time, tdiv=2)"
   ]
  },
  {
   "cell_type": "code",
   "execution_count": 18,
   "metadata": {
    "ExecuteTime": {
     "end_time": "2019-10-31T04:27:05.779398Z",
     "start_time": "2019-10-31T04:27:03.596698Z"
    }
   },
   "outputs": [
    {
     "data": {
      "image/jpeg": "[encoded data removed]",
      "text/plain": [
       "<IPython.core.display.Image object>"
      ]
     },
     "metadata": {},
     "output_type": "display_data"
    }
   ],
   "source": [
    "# Control weakly\n",
    "A = c.A(1)\n",
    "B = c.B(2)\n",
    "\n",
    "fsf = signal.place_poles(A, B, [-.3-1j,-.3+1j,-.5-2j,-.5+2j])\n",
    "K = fsf.gain_matrix\n",
    "\n",
    "yf = np.array([0, 0, 0, 0]) # fixed point of expansion\n",
    "y0 = np.array([0, 0, np.pi/3, 0]) # displacement\n",
    "\n",
    "tmin, tmax = [0, 15]\n",
    "time = np.linspace(tmin,tmax,int((tmax-tmin)/.1))\n",
    "                   \n",
    "linear_res = np.array([sp.linalg.expm((A-B@K) * t)@(y0-yf)+yf for t in time])\n",
    "x,px,th,pth = linear_res.T\n",
    "ch.make_movie_with_buffer(c, x, th, time, tdiv=2)"
   ]
  },
  {
   "cell_type": "markdown",
   "metadata": {},
   "source": [
    "## Linear Quadratic Regulator\n",
    "Solve the algebraic ricatti equation to get a solution for the optimal control operator"
   ]
  },
  {
   "cell_type": "code",
   "execution_count": 20,
   "metadata": {
    "ExecuteTime": {
     "end_time": "2019-10-31T04:27:23.737833Z",
     "start_time": "2019-10-31T04:27:17.415020Z"
    }
   },
   "outputs": [
    {
     "data": {
      "image/jpeg": "[encoded data removed]",
      "text/plain": [
       "<IPython.core.display.Image object>"
      ]
     },
     "metadata": {},
     "output_type": "display_data"
    }
   ],
   "source": [
    "A = c.A(1)\n",
    "B = c.B(1)\n",
    "\n",
    "Q = np.array([\n",
    "    [1,0,0,0],\n",
    "    [0,1,0,0],\n",
    "    [0,0,10,0],\n",
    "    [0,0,0,100]\n",
    "])\n",
    "\n",
    "R = np.array([[10]])\n",
    "K,_,_ = ch.lqr(A,B,Q,R)\n",
    "\n",
    "yf = np.array([0, 0, 0, 0]) # fixed point of expansion\n",
    "y0 = np.array([0, 0, np.pi/3, 0]) # displacement\n",
    "\n",
    "tmin, tmax = [0, 45]\n",
    "time = np.linspace(tmin,tmax,int((tmax-tmin)/0.1))\n",
    "\n",
    "linear_res = np.array([sp.linalg.expm((A-B@K) * t)@(y0-yf)+yf for t in time])\n",
    "x,px,th,pth = linear_res.T\n",
    "ch.make_movie_with_buffer(c, x, th, time, tdiv=2)"
   ]
  },
  {
   "cell_type": "code",
   "execution_count": 2,
   "metadata": {
    "ExecuteTime": {
     "end_time": "2019-08-19T18:18:44.050889Z",
     "start_time": "2019-08-19T18:18:44.047919Z"
    }
   },
   "outputs": [],
   "source": [
    "# Check for controllability by looking at the rank of the controllability matrix\n",
    "# Look at the SVD and interpret\n",
    "\n",
    "# Check the behavior of placing eigenvalues deeper into the negative half-plane"
   ]
  },
  {
   "cell_type": "code",
   "execution_count": null,
   "metadata": {},
   "outputs": [],
   "source": [
    "# Run the lqr for choice of Q and R to find the optimal regulator\n",
    "# Look at the eigenvalues to learn what optimal control is doing\n",
    "# Should see that xdot and thetadot are VERY controllable."
   ]
  },
  {
   "cell_type": "markdown",
   "metadata": {},
   "source": [
    "# Observability"
   ]
  },
  {
   "cell_type": "code",
   "execution_count": null,
   "metadata": {},
   "outputs": [],
   "source": [
    "# Choose a sensor (let's say the position, x)\n",
    "# Construct the observability matrix and check for observability\n",
    "# Look at the SVD and interpret"
   ]
  },
  {
   "cell_type": "code",
   "execution_count": 8,
   "metadata": {
    "ExecuteTime": {
     "end_time": "2019-09-20T18:00:34.644229Z",
     "start_time": "2019-09-20T18:00:34.635984Z"
    }
   },
   "outputs": [],
   "source": [
    "c = ch.cartpole({'mass_cart': 5, 'mass_pole': 2.1, 'length_pole': .75, 'gravity': 1, 'friction': 0})\n",
    "tmin, tmax = [0,20]\n",
    "time = np.linspace(tmin,tmax,int((tmax-tmin)/.01))\n",
    "\n",
    "A = c.A(-1)\n",
    "B = c.B(1) # force\n",
    "\n",
    "C = np.array([[1,0,0,0]])\n",
    "D = np.array([[0]])\n",
    "\n",
    "Wd = .1*np.identity(4)\n",
    "Wn = np.array([[1]])\n",
    "\n",
    "# Augmented control system: (u, d, n)\n",
    "augB = np.hstack([B, Wd, np.zeros([4,1])])\n",
    "augD = np.hstack([D, np.zeros([1,4]), Wn])\n",
    "\n",
    "# Stable fixed point\n",
    "yf = np.array([0,0,np.pi,0])\n",
    "y0 = np.array([0, 0,np.pi+0.5,0])  "
   ]
  },
  {
   "cell_type": "code",
   "execution_count": 10,
   "metadata": {
    "ExecuteTime": {
     "end_time": "2019-09-20T18:00:45.058097Z",
     "start_time": "2019-09-20T18:00:45.055627Z"
    }
   },
   "outputs": [],
   "source": [
    "tmin, tmax = [0, 10]\n",
    "dt = 0.01\n",
    "time = np.linspace(tmin,tmax,int((tmax-tmin)/dt))"
   ]
  },
  {
   "cell_type": "code",
   "execution_count": 21,
   "metadata": {
    "ExecuteTime": {
     "end_time": "2019-10-31T04:27:34.843742Z",
     "start_time": "2019-10-31T04:27:33.577928Z"
    }
   },
   "outputs": [
    {
     "data": {
      "image/jpeg": "[encoded data removed]",
      "text/plain": [
       "<IPython.core.display.Image object>"
      ]
     },
     "metadata": {},
     "output_type": "display_data"
    }
   ],
   "source": [
    "linear_res = np.array([sp.linalg.expm(A*t)@(y0-yf) + yf for t in time])\n",
    "x,px,th,pth = linear_res.T\n",
    "ch.make_movie_with_buffer(c, x, th, time)"
   ]
  },
  {
   "cell_type": "code",
   "execution_count": 98,
   "metadata": {
    "ExecuteTime": {
     "end_time": "2019-09-05T20:03:31.400714Z",
     "start_time": "2019-09-05T20:03:31.396358Z"
    }
   },
   "outputs": [],
   "source": [
    "Kf, _, _ = ch.lqr(A.T, C.T, Wd, Wn)"
   ]
  },
  {
   "cell_type": "code",
   "execution_count": 101,
   "metadata": {
    "ExecuteTime": {
     "end_time": "2019-09-05T20:22:15.768366Z",
     "start_time": "2019-09-05T20:22:15.757087Z"
    }
   },
   "outputs": [
    {
     "data": {
      "text/plain": [
       "matrix([[0.52806572, 0.31622777, 0.82149746, 0.04908965]])"
      ]
     },
     "execution_count": 101,
     "metadata": {},
     "output_type": "execute_result"
    }
   ],
   "source": [
    "Kf"
   ]
  },
  {
   "cell_type": "markdown",
   "metadata": {},
   "source": [
    "# Observability and Controllability"
   ]
  },
  {
   "cell_type": "code",
   "execution_count": null,
   "metadata": {},
   "outputs": [],
   "source": []
  }
 ],
 "metadata": {
  "kernelspec": {
   "display_name": "Python 3",
   "language": "python",
   "name": "python3"
  },
  "language_info": {
   "codemirror_mode": {
    "name": "ipython",
    "version": 3
   },
   "file_extension": ".py",
   "mimetype": "text/x-python",
   "name": "python",
   "nbconvert_exporter": "python",
   "pygments_lexer": "ipython3",
   "version": "3.6.8"
  },
  "latex_envs": {
   "LaTeX_envs_menu_present": true,
   "autoclose": false,
   "autocomplete": true,
   "bibliofile": "biblio.bib",
   "cite_by": "apalike",
   "current_citInitial": 1,
   "eqLabelWithNumbers": true,
   "eqNumInitial": 1,
   "hotkeys": {
    "equation": "Ctrl-E",
    "itemize": "Ctrl-I"
   },
   "labels_anchors": false,
   "latex_user_defs": false,
   "report_style_numbering": false,
   "user_envs_cfg": false
  },
  "toc": {
   "base_numbering": 1,
   "nav_menu": {},
   "number_sections": true,
   "sideBar": true,
   "skip_h1_title": false,
   "title_cell": "Table of Contents",
   "title_sidebar": "Contents",
   "toc_cell": false,
   "toc_position": {},
   "toc_section_display": true,
   "toc_window_display": true
  },
  "varInspector": {
   "cols": {
    "lenName": 16,
    "lenType": 16,
    "lenVar": 40
   },
   "kernels_config": {
    "python": {
     "delete_cmd_postfix": "",
     "delete_cmd_prefix": "del ",
     "library": "var_list.py",
     "varRefreshCmd": "print(var_dic_list())"
    },
    "r": {
     "delete_cmd_postfix": ") ",
     "delete_cmd_prefix": "rm(",
     "library": "var_list.r",
     "varRefreshCmd": "cat(var_dic_list()) "
    }
   },
   "types_to_exclude": [
    "module",
    "function",
    "builtin_function_or_method",
    "instance",
    "_Feature"
   ],
   "window_display": false
  }
 },
 "nbformat": 4,
 "nbformat_minor": 2
}
